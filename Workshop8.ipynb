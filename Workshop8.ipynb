{
  "nbformat": 4,
  "nbformat_minor": 0,
  "metadata": {
    "colab": {
      "provenance": [],
      "authorship_tag": "ABX9TyNzp+elnEn7wImvKW1C+BxU",
      "include_colab_link": true
    },
    "kernelspec": {
      "name": "python3",
      "display_name": "Python 3"
    },
    "language_info": {
      "name": "python"
    }
  },
  "cells": [
    {
      "cell_type": "markdown",
      "metadata": {
        "id": "view-in-github",
        "colab_type": "text"
      },
      "source": [
        "<a href=\"https://colab.research.google.com/github/prashannachauhankshetri99/Worksheet1/blob/main/Workshop8.ipynb\" target=\"_parent\"><img src=\"https://colab.research.google.com/assets/colab-badge.svg\" alt=\"Open In Colab\"/></a>"
      ]
    },
    {
      "cell_type": "code",
      "execution_count": 1,
      "metadata": {
        "id": "fLbRpeaWpcY9"
      },
      "outputs": [],
      "source": [
        "from sklearn.datasets import load_wine\n",
        "from sklearn.model_selection import train_test_split, GridSearchCV, RandomizedSearchCV\n",
        "from sklearn.tree import DecisionTreeClassifier, DecisionTreeRegressor\n",
        "from sklearn.ensemble import RandomForestClassifier, RandomForestRegressor\n",
        "from sklearn.metrics import f1_score, mean_squared_error\n",
        "import numpy as np\n",
        "\n"
      ]
    },
    {
      "cell_type": "code",
      "source": [
        "data = load_wine()\n",
        "X, y = data.data, data.target\n",
        "X_train, X_test, y_train, y_test = train_test_split(X, y, test_size=0.3, random_state=42)"
      ],
      "metadata": {
        "id": "8tgM9WJ1pqRK"
      },
      "execution_count": 3,
      "outputs": []
    },
    {
      "cell_type": "code",
      "source": [
        "# 1. Classification Models\n",
        "# A Decision Tree Classifier\n",
        "clf_dt = DecisionTreeClassifier(random_state=42)\n",
        "clf_dt.fit(X_train, y_train)\n",
        "y_pred_dt = clf_dt.predict(X_test)\n",
        "\n",
        "# A Random Forest Classifier\n",
        "clf_rf = RandomForestClassifier(random_state=42)\n",
        "clf_rf.fit(X_train, y_train)\n",
        "y_pred_rf = clf_rf.predict(X_test)\n",
        "\n",
        "# Comparing the\n",
        "f1_dt = f1_score(y_test, y_pred_dt, average=\"weighted\")\n",
        "f1_rf = f1_score(y_test, y_pred_rf, average=\"weighted\")\n",
        "print(f\"Decision Tree Classifier F1 Score: {f1_dt}\")\n",
        "print(f\"Random Forest Classifier F1 Score: {f1_rf}\")"
      ],
      "metadata": {
        "colab": {
          "base_uri": "https://localhost:8080/"
        },
        "id": "0LvTmQYnprYh",
        "outputId": "39755a23-8647-4a1d-d33a-837a9d86ae49"
      },
      "execution_count": 5,
      "outputs": [
        {
          "output_type": "stream",
          "name": "stdout",
          "text": [
            "Decision Tree Classifier F1 Score: 0.9628353590455226\n",
            "Random Forest Classifier F1 Score: 1.0\n"
          ]
        }
      ]
    },
    {
      "cell_type": "code",
      "source": [
        "# 2. Hyperparameter Tuning for Random Forest Classifier\n",
        "# Three hyperparameters: n_estimators, max_depth, and min_samples_split\n",
        "param_grid = {\n",
        "    \"n_estimators\": [50, 100, 200],\n",
        "    \"max_depth\": [None, 10, 20, 30],\n",
        "    \"min_samples_split\": [2, 5, 10]\n",
        "}\n",
        "\n",
        "grid_search = GridSearchCV(estimator=RandomForestClassifier(random_state=42),\n",
        "                           param_grid=param_grid,\n",
        "                           scoring=\"f1_weighted\",\n",
        "                           cv=5)\n",
        "grid_search.fit(X_train, y_train)\n",
        "print(f\"Best Parameters for Random Forest Classifier: {grid_search.best_params_}\")\n",
        "print(f\"Best F1 Score from Grid Search: {grid_search.best_score_}\")"
      ],
      "metadata": {
        "colab": {
          "base_uri": "https://localhost:8080/"
        },
        "id": "kQzStGEyp_9P",
        "outputId": "e013bca7-a99a-4ab9-c276-56cd8b541bf5"
      },
      "execution_count": 6,
      "outputs": [
        {
          "output_type": "stream",
          "name": "stdout",
          "text": [
            "Best Parameters for Random Forest Classifier: {'max_depth': None, 'min_samples_split': 2, 'n_estimators': 50}\n",
            "Best F1 Score from Grid Search: 0.9680809081527346\n"
          ]
        }
      ]
    },
    {
      "cell_type": "code",
      "source": [
        "# 3. Regression Models\n",
        "# Convert target to regression problem\n",
        "y_reg = data.data[:, 0]\n",
        "X_train_reg, X_test_reg, y_train_reg, y_test_reg = train_test_split(X, y_reg, test_size=0.3, random_state=42)\n",
        "\n",
        "# Training a Decision Tree Regressor\n",
        "reg_dt = DecisionTreeRegressor(random_state=42)\n",
        "reg_dt.fit(X_train_reg, y_train_reg)\n",
        "y_pred_dt_reg = reg_dt.predict(X_test_reg)\n",
        "mse_dt = mean_squared_error(y_test_reg, y_pred_dt_reg)\n",
        "\n",
        "# Traning a Random Forest Regressor\n",
        "reg_rf = RandomForestRegressor(random_state=42)\n",
        "reg_rf.fit(X_train_reg, y_train_reg)\n",
        "y_pred_rf_reg = reg_rf.predict(X_test_reg)\n",
        "mse_rf = mean_squared_error(y_test_reg, y_pred_rf_reg)\n",
        "\n",
        "print(f\"Decision Tree Regressor MSE: {mse_dt}\")\n",
        "print(f\"Random Forest Regressor MSE: {mse_rf}\")\n",
        "\n",
        "# Hyperparameter Tuning for Random Forest Regressor\n",
        "# Three parameters: n_estimators, max_features, and max_depth\n",
        "param_dist = {\n",
        "    \"n_estimators\": [50, 100, 200, 300],\n",
        "    \"max_features\": [\"sqrt\", \"sqrt\", \"log2\"],\n",
        "    \"max_depth\": [None, 10, 20, 30, 40]\n",
        "}\n",
        "\n",
        "random_search = RandomizedSearchCV(estimator=RandomForestRegressor(random_state=42),\n",
        "                                   param_distributions=param_dist,\n",
        "                                   scoring=\"neg_mean_squared_error\",\n",
        "                                   n_iter=10,\n",
        "                                   cv=5,\n",
        "                                   random_state=42)\n",
        "random_search.fit(X_train_reg, y_train_reg)\n",
        "print(f\"Best Parameters for Random Forest Regressor: {random_search.best_params_}\")\n",
        "print(f\"Best Negative MSE from Randomized Search: {random_search.best_score_}\")\n"
      ],
      "metadata": {
        "colab": {
          "base_uri": "https://localhost:8080/"
        },
        "id": "QpB4V6kKqY8Q",
        "outputId": "e4dbcd9a-9b09-4f13-a075-8daf68b3f5e6"
      },
      "execution_count": 7,
      "outputs": [
        {
          "output_type": "stream",
          "name": "stdout",
          "text": [
            "Decision Tree Regressor MSE: 0.0017592592592592462\n",
            "Random Forest Regressor MSE: 0.0013293277777777996\n",
            "Best Parameters for Random Forest Regressor: {'n_estimators': 200, 'max_features': 'sqrt', 'max_depth': 40}\n",
            "Best Negative MSE from Randomized Search: -0.10034172179916567\n"
          ]
        }
      ]
    }
  ]
}