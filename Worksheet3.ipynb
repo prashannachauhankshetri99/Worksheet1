{
  "nbformat": 4,
  "nbformat_minor": 0,
  "metadata": {
    "colab": {
      "provenance": [],
      "authorship_tag": "ABX9TyOmjt9uQ5ML3kGQ4mAfUMca",
      "include_colab_link": true
    },
    "kernelspec": {
      "name": "python3",
      "display_name": "Python 3"
    },
    "language_info": {
      "name": "python"
    }
  },
  "cells": [
    {
      "cell_type": "markdown",
      "metadata": {
        "id": "view-in-github",
        "colab_type": "text"
      },
      "source": [
        "<a href=\"https://colab.research.google.com/github/prashannachauhankshetri99/Worksheet1/blob/main/Worksheet3.ipynb\" target=\"_parent\"><img src=\"https://colab.research.google.com/assets/colab-badge.svg\" alt=\"Open In Colab\"/></a>"
      ]
    },
    {
      "cell_type": "code",
      "source": [
        "import pandas as pd\n",
        "import matplotlib.pyplot as plt\n",
        "import seaborn as sns"
      ],
      "metadata": {
        "id": "1NwZqyUf93x3"
      },
      "execution_count": null,
      "outputs": []
    },
    {
      "cell_type": "markdown",
      "source": [
        "#**sorting**"
      ],
      "metadata": {
        "id": "Bt8XiDwmBhog"
      }
    },
    {
      "cell_type": "code",
      "execution_count": null,
      "metadata": {
        "id": "Njc_59Ys6jHJ"
      },
      "outputs": [],
      "source": [
        "#3.1_ Warm up Exercise\n",
        "\n",
        "data = pd.read_csv('/content/sample_data/Titanic-Dataset.csv')\n",
        "df=pd.DataFrame(data)\n"
      ]
    },
    {
      "cell_type": "code",
      "source": [
        "'''1.Create a DataFrame called fare that contains only the Fare column of the Titanic dataset. Print the\n",
        "head of the result.'''\n",
        "fare = df[['Fare']]\n",
        "print(fare.head())\n"
      ],
      "metadata": {
        "colab": {
          "base_uri": "https://localhost:8080/"
        },
        "id": "ADLwg9aa8buH",
        "outputId": "5fc6bc47-8a29-4235-ab79-84031fb4fd22"
      },
      "execution_count": null,
      "outputs": [
        {
          "output_type": "stream",
          "name": "stdout",
          "text": [
            "      Fare\n",
            "0   7.2500\n",
            "1  71.2833\n",
            "2   7.9250\n",
            "3  53.1000\n",
            "4   8.0500\n"
          ]
        }
      ]
    },
    {
      "cell_type": "code",
      "source": [
        "#2\n",
        "'''Create a DataFrame called class age that contains only the Pclass and Age columns of the Titanic\n",
        "dataset, in that order. Print the head of the result.'''\n",
        "\n",
        "p_class = df[['Pclass','Age']]\n",
        "print(p_class.head())"
      ],
      "metadata": {
        "colab": {
          "base_uri": "https://localhost:8080/"
        },
        "id": "dfOZ4uh9-NqG",
        "outputId": "cc94df66-0092-48ee-c0c8-941c1f687dbf"
      },
      "execution_count": null,
      "outputs": [
        {
          "output_type": "stream",
          "name": "stdout",
          "text": [
            "   Pclass   Age\n",
            "0       3  22.0\n",
            "1       1  38.0\n",
            "2       3  26.0\n",
            "3       1  35.0\n",
            "4       3  35.0\n"
          ]
        }
      ]
    },
    {
      "cell_type": "code",
      "source": [
        "#3\n",
        "'''Create a DataFrame called survived gender that contains the Survived and Sex columns of the\n",
        "Titanic dataset, in that order.Print the head of the result.'''\n",
        "\n",
        "survivied_gender = df[['Survived','Sex']]\n",
        "print(survivied_gender)"
      ],
      "metadata": {
        "colab": {
          "base_uri": "https://localhost:8080/"
        },
        "id": "ah5jgbSsA8N-",
        "outputId": "859d2f12-2806-4064-bce2-70411c1b83a2"
      },
      "execution_count": null,
      "outputs": [
        {
          "output_type": "stream",
          "name": "stdout",
          "text": [
            "     Survived     Sex\n",
            "0           0    male\n",
            "1           1  female\n",
            "2           1  female\n",
            "3           1  female\n",
            "4           0    male\n",
            "..        ...     ...\n",
            "886         0    male\n",
            "887         1  female\n",
            "888         0  female\n",
            "889         1    male\n",
            "890         0    male\n",
            "\n",
            "[891 rows x 2 columns]\n"
          ]
        }
      ]
    },
    {
      "cell_type": "markdown",
      "source": [
        "**Problem - 2 - Subsetting:**"
      ],
      "metadata": {
        "id": "JQCFEB5XBdUM"
      }
    },
    {
      "cell_type": "code",
      "source": [
        "#1\n",
        "fare_gt_100 = df[df['Fare']>100]\n",
        "print(fare_gt_100)"
      ],
      "metadata": {
        "colab": {
          "base_uri": "https://localhost:8080/"
        },
        "id": "AxNvKVDbBfMx",
        "outputId": "a26cb2a8-73ae-4346-b657-0dc2ab7ac523"
      },
      "execution_count": null,
      "outputs": [
        {
          "output_type": "stream",
          "name": "stdout",
          "text": [
            "     PassengerId  Survived  Pclass  \\\n",
            "27            28         0       1   \n",
            "31            32         1       1   \n",
            "88            89         1       1   \n",
            "118          119         0       1   \n",
            "195          196         1       1   \n",
            "215          216         1       1   \n",
            "258          259         1       1   \n",
            "268          269         1       1   \n",
            "269          270         1       1   \n",
            "297          298         0       1   \n",
            "299          300         1       1   \n",
            "305          306         1       1   \n",
            "306          307         1       1   \n",
            "307          308         1       1   \n",
            "311          312         1       1   \n",
            "318          319         1       1   \n",
            "319          320         1       1   \n",
            "325          326         1       1   \n",
            "332          333         0       1   \n",
            "334          335         1       1   \n",
            "337          338         1       1   \n",
            "341          342         1       1   \n",
            "373          374         0       1   \n",
            "377          378         0       1   \n",
            "380          381         1       1   \n",
            "390          391         1       1   \n",
            "393          394         1       1   \n",
            "435          436         1       1   \n",
            "438          439         0       1   \n",
            "498          499         0       1   \n",
            "505          506         0       1   \n",
            "527          528         0       1   \n",
            "537          538         1       1   \n",
            "544          545         0       1   \n",
            "550          551         1       1   \n",
            "557          558         0       1   \n",
            "581          582         1       1   \n",
            "609          610         1       1   \n",
            "659          660         0       1   \n",
            "660          661         1       1   \n",
            "679          680         1       1   \n",
            "689          690         1       1   \n",
            "698          699         0       1   \n",
            "700          701         1       1   \n",
            "708          709         1       1   \n",
            "716          717         1       1   \n",
            "730          731         1       1   \n",
            "737          738         1       1   \n",
            "742          743         1       1   \n",
            "763          764         1       1   \n",
            "779          780         1       1   \n",
            "802          803         1       1   \n",
            "856          857         1       1   \n",
            "\n",
            "                                                  Name     Sex    Age  SibSp  \\\n",
            "27                      Fortune, Mr. Charles Alexander    male  19.00      3   \n",
            "31      Spencer, Mrs. William Augustus (Marie Eugenie)  female    NaN      1   \n",
            "88                          Fortune, Miss. Mabel Helen  female  23.00      3   \n",
            "118                           Baxter, Mr. Quigg Edmond    male  24.00      0   \n",
            "195                               Lurette, Miss. Elise  female  58.00      0   \n",
            "215                            Newell, Miss. Madeleine  female  31.00      1   \n",
            "258                                   Ward, Miss. Anna  female  35.00      0   \n",
            "268      Graham, Mrs. William Thompson (Edith Junkins)  female  58.00      0   \n",
            "269                             Bissette, Miss. Amelia  female  35.00      0   \n",
            "297                       Allison, Miss. Helen Loraine  female   2.00      1   \n",
            "299    Baxter, Mrs. James (Helene DeLaudeniere Chaput)  female  50.00      0   \n",
            "305                     Allison, Master. Hudson Trevor    male   0.92      1   \n",
            "306                            Fleming, Miss. Margaret  female    NaN      0   \n",
            "307  Penasco y Castellana, Mrs. Victor de Satode (M...  female  17.00      1   \n",
            "311                         Ryerson, Miss. Emily Borie  female  18.00      2   \n",
            "318                           Wick, Miss. Mary Natalie  female  31.00      0   \n",
            "319  Spedden, Mrs. Frederic Oakley (Margaretta Corn...  female  40.00      1   \n",
            "325                           Young, Miss. Marie Grice  female  36.00      0   \n",
            "332                          Graham, Mr. George Edward    male  38.00      0   \n",
            "334  Frauenthal, Mrs. Henry William (Clara Heinshei...  female    NaN      1   \n",
            "337                    Burns, Miss. Elizabeth Margaret  female  41.00      0   \n",
            "341                     Fortune, Miss. Alice Elizabeth  female  24.00      3   \n",
            "373                                Ringhini, Mr. Sante    male  22.00      0   \n",
            "377                          Widener, Mr. Harry Elkins    male  27.00      0   \n",
            "380                              Bidois, Miss. Rosalie  female  42.00      0   \n",
            "390                         Carter, Mr. William Ernest    male  36.00      1   \n",
            "393                             Newell, Miss. Marjorie  female  23.00      1   \n",
            "435                          Carter, Miss. Lucile Polk  female  14.00      1   \n",
            "438                                  Fortune, Mr. Mark    male  64.00      1   \n",
            "498    Allison, Mrs. Hudson J C (Bessie Waldo Daniels)  female  25.00      1   \n",
            "505         Penasco y Castellana, Mr. Victor de Satode    male  18.00      1   \n",
            "527                                 Farthing, Mr. John    male    NaN      0   \n",
            "537                                LeRoy, Miss. Bertha  female  30.00      0   \n",
            "544                         Douglas, Mr. Walter Donald    male  50.00      1   \n",
            "550                        Thayer, Mr. John Borland Jr    male  17.00      0   \n",
            "557                                Robbins, Mr. Victor    male    NaN      0   \n",
            "581  Thayer, Mrs. John Borland (Marian Longstreth M...  female  39.00      1   \n",
            "609                          Shutes, Miss. Elizabeth W  female  40.00      0   \n",
            "659                         Newell, Mr. Arthur Webster    male  58.00      0   \n",
            "660                      Frauenthal, Dr. Henry William    male  50.00      2   \n",
            "679                 Cardeza, Mr. Thomas Drake Martinez    male  36.00      0   \n",
            "689                  Madill, Miss. Georgette Alexandra  female  15.00      0   \n",
            "698                           Thayer, Mr. John Borland    male  49.00      1   \n",
            "700  Astor, Mrs. John Jacob (Madeleine Talmadge Force)  female  18.00      1   \n",
            "708                               Cleaver, Miss. Alice  female  22.00      0   \n",
            "716                      Endres, Miss. Caroline Louise  female  38.00      0   \n",
            "730                      Allen, Miss. Elisabeth Walton  female  29.00      0   \n",
            "737                             Lesurer, Mr. Gustave J    male  35.00      0   \n",
            "742              Ryerson, Miss. Susan Parker \"Suzette\"  female  21.00      2   \n",
            "763          Carter, Mrs. William Ernest (Lucile Polk)  female  36.00      1   \n",
            "779  Robert, Mrs. Edward Scott (Elisabeth Walton Mc...  female  43.00      0   \n",
            "802                Carter, Master. William Thornton II    male  11.00      1   \n",
            "856         Wick, Mrs. George Dennick (Mary Hitchcock)  female  45.00      1   \n",
            "\n",
            "     Parch    Ticket      Fare            Cabin Embarked  \n",
            "27       2     19950  263.0000      C23 C25 C27        S  \n",
            "31       0  PC 17569  146.5208              B78        C  \n",
            "88       2     19950  263.0000      C23 C25 C27        S  \n",
            "118      1  PC 17558  247.5208          B58 B60        C  \n",
            "195      0  PC 17569  146.5208              B80        C  \n",
            "215      0     35273  113.2750              D36        C  \n",
            "258      0  PC 17755  512.3292              NaN        C  \n",
            "268      1  PC 17582  153.4625             C125        S  \n",
            "269      0  PC 17760  135.6333              C99        S  \n",
            "297      2    113781  151.5500          C22 C26        S  \n",
            "299      1  PC 17558  247.5208          B58 B60        C  \n",
            "305      2    113781  151.5500          C22 C26        S  \n",
            "306      0     17421  110.8833              NaN        C  \n",
            "307      0  PC 17758  108.9000              C65        C  \n",
            "311      2  PC 17608  262.3750  B57 B59 B63 B66        C  \n",
            "318      2     36928  164.8667               C7        S  \n",
            "319      1     16966  134.5000              E34        C  \n",
            "325      0  PC 17760  135.6333              C32        C  \n",
            "332      1  PC 17582  153.4625              C91        S  \n",
            "334      0  PC 17611  133.6500              NaN        S  \n",
            "337      0     16966  134.5000              E40        C  \n",
            "341      2     19950  263.0000      C23 C25 C27        S  \n",
            "373      0  PC 17760  135.6333              NaN        C  \n",
            "377      2    113503  211.5000              C82        C  \n",
            "380      0  PC 17757  227.5250              NaN        C  \n",
            "390      2    113760  120.0000          B96 B98        S  \n",
            "393      0     35273  113.2750              D36        C  \n",
            "435      2    113760  120.0000          B96 B98        S  \n",
            "438      4     19950  263.0000      C23 C25 C27        S  \n",
            "498      2    113781  151.5500          C22 C26        S  \n",
            "505      0  PC 17758  108.9000              C65        C  \n",
            "527      0  PC 17483  221.7792              C95        S  \n",
            "537      0  PC 17761  106.4250              NaN        C  \n",
            "544      0  PC 17761  106.4250              C86        C  \n",
            "550      2     17421  110.8833              C70        C  \n",
            "557      0  PC 17757  227.5250              NaN        C  \n",
            "581      1     17421  110.8833              C68        C  \n",
            "609      0  PC 17582  153.4625             C125        S  \n",
            "659      2     35273  113.2750              D48        C  \n",
            "660      0  PC 17611  133.6500              NaN        S  \n",
            "679      1  PC 17755  512.3292      B51 B53 B55        C  \n",
            "689      1     24160  211.3375               B5        S  \n",
            "698      1     17421  110.8833              C68        C  \n",
            "700      0  PC 17757  227.5250          C62 C64        C  \n",
            "708      0    113781  151.5500              NaN        S  \n",
            "716      0  PC 17757  227.5250              C45        C  \n",
            "730      0     24160  211.3375               B5        S  \n",
            "737      0  PC 17755  512.3292             B101        C  \n",
            "742      2  PC 17608  262.3750  B57 B59 B63 B66        C  \n",
            "763      2    113760  120.0000          B96 B98        S  \n",
            "779      1     24160  211.3375               B3        S  \n",
            "802      2    113760  120.0000          B96 B98        S  \n",
            "856      1     36928  164.8667              NaN        S  \n"
          ]
        }
      ]
    },
    {
      "cell_type": "code",
      "source": [
        "#2\n",
        "first_class= df[df['Pclass']==1]\n",
        "print(first_class)"
      ],
      "metadata": {
        "colab": {
          "base_uri": "https://localhost:8080/"
        },
        "id": "w1qm0O3-CeGD",
        "outputId": "4c4af709-b664-40f7-d7e7-cba155ca77b4"
      },
      "execution_count": null,
      "outputs": [
        {
          "output_type": "stream",
          "name": "stdout",
          "text": [
            "     PassengerId  Survived  Pclass  \\\n",
            "1              2         1       1   \n",
            "3              4         1       1   \n",
            "6              7         0       1   \n",
            "11            12         1       1   \n",
            "23            24         1       1   \n",
            "..           ...       ...     ...   \n",
            "871          872         1       1   \n",
            "872          873         0       1   \n",
            "879          880         1       1   \n",
            "887          888         1       1   \n",
            "889          890         1       1   \n",
            "\n",
            "                                                  Name     Sex   Age  SibSp  \\\n",
            "1    Cumings, Mrs. John Bradley (Florence Briggs Th...  female  38.0      1   \n",
            "3         Futrelle, Mrs. Jacques Heath (Lily May Peel)  female  35.0      1   \n",
            "6                              McCarthy, Mr. Timothy J    male  54.0      0   \n",
            "11                            Bonnell, Miss. Elizabeth  female  58.0      0   \n",
            "23                        Sloper, Mr. William Thompson    male  28.0      0   \n",
            "..                                                 ...     ...   ...    ...   \n",
            "871   Beckwith, Mrs. Richard Leonard (Sallie Monypeny)  female  47.0      1   \n",
            "872                           Carlsson, Mr. Frans Olof    male  33.0      0   \n",
            "879      Potter, Mrs. Thomas Jr (Lily Alexenia Wilson)  female  56.0      0   \n",
            "887                       Graham, Miss. Margaret Edith  female  19.0      0   \n",
            "889                              Behr, Mr. Karl Howell    male  26.0      0   \n",
            "\n",
            "     Parch    Ticket     Fare        Cabin Embarked  \n",
            "1        0  PC 17599  71.2833          C85        C  \n",
            "3        0    113803  53.1000         C123        S  \n",
            "6        0     17463  51.8625          E46        S  \n",
            "11       0    113783  26.5500         C103        S  \n",
            "23       0    113788  35.5000           A6        S  \n",
            "..     ...       ...      ...          ...      ...  \n",
            "871      1     11751  52.5542          D35        S  \n",
            "872      0       695   5.0000  B51 B53 B55        S  \n",
            "879      1     11767  83.1583          C50        C  \n",
            "887      0    112053  30.0000          B42        S  \n",
            "889      0    111369  30.0000         C148        C  \n",
            "\n",
            "[216 rows x 12 columns]\n"
          ]
        }
      ]
    },
    {
      "cell_type": "code",
      "source": [
        "#3\n",
        "female_under_18 = df[(df['Age'] < 18) & (df['Sex'] == 'female')]\n",
        "print(female_under_18)\n"
      ],
      "metadata": {
        "colab": {
          "base_uri": "https://localhost:8080/"
        },
        "id": "lC8W4f-EC-CW",
        "outputId": "df6d9ab5-3c8e-451c-8956-e13926443863"
      },
      "execution_count": null,
      "outputs": [
        {
          "output_type": "stream",
          "name": "stdout",
          "text": [
            "     PassengerId  Survived  Pclass  \\\n",
            "9             10         1       2   \n",
            "10            11         1       3   \n",
            "14            15         0       3   \n",
            "22            23         1       3   \n",
            "24            25         0       3   \n",
            "39            40         1       3   \n",
            "43            44         1       2   \n",
            "58            59         1       2   \n",
            "68            69         1       3   \n",
            "71            72         0       3   \n",
            "84            85         1       2   \n",
            "111          112         0       3   \n",
            "114          115         0       3   \n",
            "119          120         0       3   \n",
            "147          148         0       3   \n",
            "156          157         1       3   \n",
            "172          173         1       3   \n",
            "184          185         1       3   \n",
            "205          206         0       3   \n",
            "208          209         1       3   \n",
            "233          234         1       3   \n",
            "237          238         1       2   \n",
            "297          298         0       1   \n",
            "307          308         1       1   \n",
            "329          330         1       1   \n",
            "374          375         0       3   \n",
            "381          382         1       3   \n",
            "389          390         1       2   \n",
            "419          420         0       3   \n",
            "435          436         1       1   \n",
            "446          447         1       2   \n",
            "448          449         1       3   \n",
            "469          470         1       3   \n",
            "479          480         1       3   \n",
            "504          505         1       1   \n",
            "530          531         1       2   \n",
            "535          536         1       2   \n",
            "541          542         0       3   \n",
            "542          543         0       3   \n",
            "618          619         1       2   \n",
            "634          635         0       3   \n",
            "642          643         0       3   \n",
            "644          645         1       3   \n",
            "689          690         1       1   \n",
            "691          692         1       3   \n",
            "720          721         1       2   \n",
            "750          751         1       2   \n",
            "777          778         1       3   \n",
            "780          781         1       3   \n",
            "781          782         1       1   \n",
            "813          814         0       3   \n",
            "830          831         1       3   \n",
            "852          853         0       3   \n",
            "853          854         1       1   \n",
            "875          876         1       3   \n",
            "\n",
            "                                                  Name     Sex    Age  SibSp  \\\n",
            "9                  Nasser, Mrs. Nicholas (Adele Achem)  female  14.00      1   \n",
            "10                     Sandstrom, Miss. Marguerite Rut  female   4.00      1   \n",
            "14                Vestrom, Miss. Hulda Amanda Adolfina  female  14.00      0   \n",
            "22                         McGowan, Miss. Anna \"Annie\"  female  15.00      0   \n",
            "24                       Palsson, Miss. Torborg Danira  female   8.00      3   \n",
            "39                         Nicola-Yarred, Miss. Jamila  female  14.00      1   \n",
            "43            Laroche, Miss. Simonne Marie Anne Andree  female   3.00      1   \n",
            "58                        West, Miss. Constance Mirium  female   5.00      1   \n",
            "68                     Andersson, Miss. Erna Alexandra  female  17.00      4   \n",
            "71                          Goodwin, Miss. Lillian Amy  female  16.00      5   \n",
            "84                                 Ilett, Miss. Bertha  female  17.00      0   \n",
            "111                               Zabour, Miss. Hileni  female  14.50      1   \n",
            "114                              Attalah, Miss. Malake  female  17.00      0   \n",
            "119                  Andersson, Miss. Ellis Anna Maria  female   2.00      4   \n",
            "147                   Ford, Miss. Robina Maggie \"Ruby\"  female   9.00      2   \n",
            "156                   Gilnagh, Miss. Katherine \"Katie\"  female  16.00      0   \n",
            "172                       Johnson, Miss. Eleanor Ileen  female   1.00      1   \n",
            "184                Kink-Heilmann, Miss. Luise Gretchen  female   4.00      0   \n",
            "205                         Strom, Miss. Telma Matilda  female   2.00      0   \n",
            "208                          Carr, Miss. Helen \"Ellen\"  female  16.00      0   \n",
            "233                     Asplund, Miss. Lillian Gertrud  female   5.00      4   \n",
            "237                   Collyer, Miss. Marjorie \"Lottie\"  female   8.00      0   \n",
            "297                       Allison, Miss. Helen Loraine  female   2.00      1   \n",
            "307  Penasco y Castellana, Mrs. Victor de Satode (M...  female  17.00      1   \n",
            "329                       Hippach, Miss. Jean Gertrude  female  16.00      0   \n",
            "374                         Palsson, Miss. Stina Viola  female   3.00      3   \n",
            "381                        Nakid, Miss. Maria (\"Mary\")  female   1.00      0   \n",
            "389                              Lehmann, Miss. Bertha  female  17.00      0   \n",
            "419                          Van Impe, Miss. Catharina  female  10.00      0   \n",
            "435                          Carter, Miss. Lucile Polk  female  14.00      1   \n",
            "446                  Mellinger, Miss. Madeleine Violet  female  13.00      0   \n",
            "448                     Baclini, Miss. Marie Catherine  female   5.00      2   \n",
            "469                      Baclini, Miss. Helene Barbara  female   0.75      2   \n",
            "479                           Hirvonen, Miss. Hildur E  female   2.00      0   \n",
            "504                              Maioni, Miss. Roberta  female  16.00      0   \n",
            "530                           Quick, Miss. Phyllis May  female   2.00      1   \n",
            "535                             Hart, Miss. Eva Miriam  female   7.00      0   \n",
            "541               Andersson, Miss. Ingeborg Constanzia  female   9.00      4   \n",
            "542                  Andersson, Miss. Sigrid Elisabeth  female  11.00      4   \n",
            "618                        Becker, Miss. Marion Louise  female   4.00      2   \n",
            "634                                 Skoog, Miss. Mabel  female   9.00      3   \n",
            "642                      Skoog, Miss. Margit Elizabeth  female   2.00      3   \n",
            "644                             Baclini, Miss. Eugenie  female   0.75      2   \n",
            "689                  Madill, Miss. Georgette Alexandra  female  15.00      0   \n",
            "691                                 Karun, Miss. Manca  female   4.00      0   \n",
            "720                  Harper, Miss. Annie Jessie \"Nina\"  female   6.00      0   \n",
            "750                                  Wells, Miss. Joan  female   4.00      1   \n",
            "777                      Emanuel, Miss. Virginia Ethel  female   5.00      0   \n",
            "780                               Ayoub, Miss. Banoura  female  13.00      0   \n",
            "781          Dick, Mrs. Albert Adrian (Vera Gillespie)  female  17.00      1   \n",
            "813                 Andersson, Miss. Ebba Iris Alfrida  female   6.00      4   \n",
            "830            Yasbeck, Mrs. Antoni (Selini Alexander)  female  15.00      1   \n",
            "852                            Boulos, Miss. Nourelain  female   9.00      1   \n",
            "853                          Lines, Miss. Mary Conover  female  16.00      0   \n",
            "875                   Najib, Miss. Adele Kiamie \"Jane\"  female  15.00      0   \n",
            "\n",
            "     Parch         Ticket      Fare    Cabin Embarked  \n",
            "9        0         237736   30.0708      NaN        C  \n",
            "10       1        PP 9549   16.7000       G6        S  \n",
            "14       0         350406    7.8542      NaN        S  \n",
            "22       0         330923    8.0292      NaN        Q  \n",
            "24       1         349909   21.0750      NaN        S  \n",
            "39       0           2651   11.2417      NaN        C  \n",
            "43       2  SC/Paris 2123   41.5792      NaN        C  \n",
            "58       2     C.A. 34651   27.7500      NaN        S  \n",
            "68       2        3101281    7.9250      NaN        S  \n",
            "71       2        CA 2144   46.9000      NaN        S  \n",
            "84       0     SO/C 14885   10.5000      NaN        S  \n",
            "111      0           2665   14.4542      NaN        C  \n",
            "114      0           2627   14.4583      NaN        C  \n",
            "119      2         347082   31.2750      NaN        S  \n",
            "147      2     W./C. 6608   34.3750      NaN        S  \n",
            "156      0          35851    7.7333      NaN        Q  \n",
            "172      1         347742   11.1333      NaN        S  \n",
            "184      2         315153   22.0250      NaN        S  \n",
            "205      1         347054   10.4625       G6        S  \n",
            "208      0         367231    7.7500      NaN        Q  \n",
            "233      2         347077   31.3875      NaN        S  \n",
            "237      2     C.A. 31921   26.2500      NaN        S  \n",
            "297      2         113781  151.5500  C22 C26        S  \n",
            "307      0       PC 17758  108.9000      C65        C  \n",
            "329      1         111361   57.9792      B18        C  \n",
            "374      1         349909   21.0750      NaN        S  \n",
            "381      2           2653   15.7417      NaN        C  \n",
            "389      0        SC 1748   12.0000      NaN        C  \n",
            "419      2         345773   24.1500      NaN        S  \n",
            "435      2         113760  120.0000  B96 B98        S  \n",
            "446      1         250644   19.5000      NaN        S  \n",
            "448      1           2666   19.2583      NaN        C  \n",
            "469      1           2666   19.2583      NaN        C  \n",
            "479      1        3101298   12.2875      NaN        S  \n",
            "504      0         110152   86.5000      B79        S  \n",
            "530      1          26360   26.0000      NaN        S  \n",
            "535      2   F.C.C. 13529   26.2500      NaN        S  \n",
            "541      2         347082   31.2750      NaN        S  \n",
            "542      2         347082   31.2750      NaN        S  \n",
            "618      1         230136   39.0000       F4        S  \n",
            "634      2         347088   27.9000      NaN        S  \n",
            "642      2         347088   27.9000      NaN        S  \n",
            "644      1           2666   19.2583      NaN        C  \n",
            "689      1          24160  211.3375       B5        S  \n",
            "691      1         349256   13.4167      NaN        C  \n",
            "720      1         248727   33.0000      NaN        S  \n",
            "750      1          29103   23.0000      NaN        S  \n",
            "777      0         364516   12.4750      NaN        S  \n",
            "780      0           2687    7.2292      NaN        C  \n",
            "781      0          17474   57.0000      B20        S  \n",
            "813      2         347082   31.2750      NaN        S  \n",
            "830      0           2659   14.4542      NaN        C  \n",
            "852      1           2678   15.2458      NaN        C  \n",
            "853      1       PC 17592   39.4000      D28        S  \n",
            "875      0           2667    7.2250      NaN        C  \n"
          ]
        }
      ]
    },
    {
      "cell_type": "code",
      "source": [
        "#Subsetting Rows by Categorical variables:\n",
        "#1\n",
        "embarked_c_or_s = df[(df['Embarked']=='S') | (df['Embarked']=='C')]\n",
        "print(embarked_c_or_s)"
      ],
      "metadata": {
        "colab": {
          "base_uri": "https://localhost:8080/"
        },
        "id": "5k1dGq_AElG-",
        "outputId": "758dc91a-5c0b-45a6-8d14-33b1e5e2898a"
      },
      "execution_count": null,
      "outputs": [
        {
          "output_type": "stream",
          "name": "stdout",
          "text": [
            "     PassengerId  Survived  Pclass  \\\n",
            "0              1         0       3   \n",
            "1              2         1       1   \n",
            "2              3         1       3   \n",
            "3              4         1       1   \n",
            "4              5         0       3   \n",
            "..           ...       ...     ...   \n",
            "884          885         0       3   \n",
            "886          887         0       2   \n",
            "887          888         1       1   \n",
            "888          889         0       3   \n",
            "889          890         1       1   \n",
            "\n",
            "                                                  Name     Sex   Age  SibSp  \\\n",
            "0                              Braund, Mr. Owen Harris    male  22.0      1   \n",
            "1    Cumings, Mrs. John Bradley (Florence Briggs Th...  female  38.0      1   \n",
            "2                               Heikkinen, Miss. Laina  female  26.0      0   \n",
            "3         Futrelle, Mrs. Jacques Heath (Lily May Peel)  female  35.0      1   \n",
            "4                             Allen, Mr. William Henry    male  35.0      0   \n",
            "..                                                 ...     ...   ...    ...   \n",
            "884                             Sutehall, Mr. Henry Jr    male  25.0      0   \n",
            "886                              Montvila, Rev. Juozas    male  27.0      0   \n",
            "887                       Graham, Miss. Margaret Edith  female  19.0      0   \n",
            "888           Johnston, Miss. Catherine Helen \"Carrie\"  female   NaN      1   \n",
            "889                              Behr, Mr. Karl Howell    male  26.0      0   \n",
            "\n",
            "     Parch            Ticket     Fare Cabin Embarked  \n",
            "0        0         A/5 21171   7.2500   NaN        S  \n",
            "1        0          PC 17599  71.2833   C85        C  \n",
            "2        0  STON/O2. 3101282   7.9250   NaN        S  \n",
            "3        0            113803  53.1000  C123        S  \n",
            "4        0            373450   8.0500   NaN        S  \n",
            "..     ...               ...      ...   ...      ...  \n",
            "884      0   SOTON/OQ 392076   7.0500   NaN        S  \n",
            "886      0            211536  13.0000   NaN        S  \n",
            "887      0            112053  30.0000   B42        S  \n",
            "888      2        W./C. 6607  23.4500   NaN        S  \n",
            "889      0            111369  30.0000  C148        C  \n",
            "\n",
            "[812 rows x 12 columns]\n"
          ]
        }
      ]
    },
    {
      "cell_type": "code",
      "source": [
        "#2\n",
        "first_second_class = df[df['Pclass'].isin([1,2])]\n",
        "print(first_second_class)"
      ],
      "metadata": {
        "colab": {
          "base_uri": "https://localhost:8080/"
        },
        "id": "TLcnBCbnGmhi",
        "outputId": "05fc85ce-3125-4028-edaf-e987832e1b0e"
      },
      "execution_count": null,
      "outputs": [
        {
          "output_type": "stream",
          "name": "stdout",
          "text": [
            "     PassengerId  Survived  Pclass  \\\n",
            "1              2         1       1   \n",
            "3              4         1       1   \n",
            "6              7         0       1   \n",
            "9             10         1       2   \n",
            "11            12         1       1   \n",
            "..           ...       ...     ...   \n",
            "880          881         1       2   \n",
            "883          884         0       2   \n",
            "886          887         0       2   \n",
            "887          888         1       1   \n",
            "889          890         1       1   \n",
            "\n",
            "                                                  Name     Sex   Age  SibSp  \\\n",
            "1    Cumings, Mrs. John Bradley (Florence Briggs Th...  female  38.0      1   \n",
            "3         Futrelle, Mrs. Jacques Heath (Lily May Peel)  female  35.0      1   \n",
            "6                              McCarthy, Mr. Timothy J    male  54.0      0   \n",
            "9                  Nasser, Mrs. Nicholas (Adele Achem)  female  14.0      1   \n",
            "11                            Bonnell, Miss. Elizabeth  female  58.0      0   \n",
            "..                                                 ...     ...   ...    ...   \n",
            "880       Shelley, Mrs. William (Imanita Parrish Hall)  female  25.0      0   \n",
            "883                      Banfield, Mr. Frederick James    male  28.0      0   \n",
            "886                              Montvila, Rev. Juozas    male  27.0      0   \n",
            "887                       Graham, Miss. Margaret Edith  female  19.0      0   \n",
            "889                              Behr, Mr. Karl Howell    male  26.0      0   \n",
            "\n",
            "     Parch            Ticket     Fare Cabin Embarked  \n",
            "1        0          PC 17599  71.2833   C85        C  \n",
            "3        0            113803  53.1000  C123        S  \n",
            "6        0             17463  51.8625   E46        S  \n",
            "9        0            237736  30.0708   NaN        C  \n",
            "11       0            113783  26.5500  C103        S  \n",
            "..     ...               ...      ...   ...      ...  \n",
            "880      1            230433  26.0000   NaN        S  \n",
            "883      0  C.A./SOTON 34068  10.5000   NaN        S  \n",
            "886      0            211536  13.0000   NaN        S  \n",
            "887      0            112053  30.0000   B42        S  \n",
            "889      0            111369  30.0000  C148        C  \n",
            "\n",
            "[400 rows x 12 columns]\n"
          ]
        }
      ]
    },
    {
      "cell_type": "markdown",
      "source": [
        "**3.2 Exploratory Data Analysis Practice Exercise - 1.**"
      ],
      "metadata": {
        "id": "IYVmmDUBHtRo"
      }
    },
    {
      "cell_type": "code",
      "source": [
        "#Handing missing datas in Age colummn\n",
        "missing_age = df['Age'].isnull()\n",
        "age_mean = df['Age'].mean()\n",
        "print(missing_age)\n",
        "print(age_mean)\n",
        "df['Age'] = df['Age'].fillna(age_mean)\n",
        "print(df)\n"
      ],
      "metadata": {
        "colab": {
          "base_uri": "https://localhost:8080/"
        },
        "id": "pe2N2OHZHvIo",
        "outputId": "fb62eb7f-219a-43bb-d0af-d7e48337cab7"
      },
      "execution_count": 33,
      "outputs": [
        {
          "output_type": "stream",
          "name": "stdout",
          "text": [
            "0      False\n",
            "1      False\n",
            "2      False\n",
            "3      False\n",
            "4      False\n",
            "       ...  \n",
            "886    False\n",
            "887    False\n",
            "888    False\n",
            "889    False\n",
            "890    False\n",
            "Name: Age, Length: 891, dtype: bool\n",
            "29.69911764705882\n",
            "     PassengerId  Survived  Pclass  \\\n",
            "0              1         0       3   \n",
            "1              2         1       1   \n",
            "2              3         1       3   \n",
            "3              4         1       1   \n",
            "4              5         0       3   \n",
            "..           ...       ...     ...   \n",
            "886          887         0       2   \n",
            "887          888         1       1   \n",
            "888          889         0       3   \n",
            "889          890         1       1   \n",
            "890          891         0       3   \n",
            "\n",
            "                                                  Name     Sex        Age  \\\n",
            "0                              Braund, Mr. Owen Harris    male  22.000000   \n",
            "1    Cumings, Mrs. John Bradley (Florence Briggs Th...  female  38.000000   \n",
            "2                               Heikkinen, Miss. Laina  female  26.000000   \n",
            "3         Futrelle, Mrs. Jacques Heath (Lily May Peel)  female  35.000000   \n",
            "4                             Allen, Mr. William Henry    male  35.000000   \n",
            "..                                                 ...     ...        ...   \n",
            "886                              Montvila, Rev. Juozas    male  27.000000   \n",
            "887                       Graham, Miss. Margaret Edith  female  19.000000   \n",
            "888           Johnston, Miss. Catherine Helen \"Carrie\"  female  29.699118   \n",
            "889                              Behr, Mr. Karl Howell    male  26.000000   \n",
            "890                                Dooley, Mr. Patrick    male  32.000000   \n",
            "\n",
            "     SibSp  Parch            Ticket     Fare Cabin Embarked  \n",
            "0        1      0         A/5 21171   7.2500   NaN        S  \n",
            "1        1      0          PC 17599  71.2833   C85        C  \n",
            "2        0      0  STON/O2. 3101282   7.9250   NaN        S  \n",
            "3        1      0            113803  53.1000  C123        S  \n",
            "4        0      0            373450   8.0500   NaN        S  \n",
            "..     ...    ...               ...      ...   ...      ...  \n",
            "886      0      0            211536  13.0000   NaN        S  \n",
            "887      0      0            112053  30.0000   B42        S  \n",
            "888      1      2        W./C. 6607  23.4500   NaN        S  \n",
            "889      0      0            111369  30.0000  C148        C  \n",
            "890      0      0            370376   7.7500   NaN        Q  \n",
            "\n",
            "[891 rows x 12 columns]\n"
          ]
        }
      ]
    },
    {
      "cell_type": "code",
      "source": [
        "#1\n",
        "'''Add a column to the Titanic dataset, fare per year, containing the fare divided by the age of\n",
        "the passenger(i.e., Fare/Age).'''\n",
        "df['fare_per_year'] = df['Fare']/df['Age']\n",
        "print(df)\n",
        "\n"
      ],
      "metadata": {
        "colab": {
          "base_uri": "https://localhost:8080/"
        },
        "id": "sU5SOZc0YFnC",
        "outputId": "c2a61af6-2fd0-42fc-a833-0ebd97bc1a87"
      },
      "execution_count": 36,
      "outputs": [
        {
          "output_type": "stream",
          "name": "stdout",
          "text": [
            "     PassengerId  Survived  Pclass  \\\n",
            "0              1         0       3   \n",
            "1              2         1       1   \n",
            "2              3         1       3   \n",
            "3              4         1       1   \n",
            "4              5         0       3   \n",
            "..           ...       ...     ...   \n",
            "886          887         0       2   \n",
            "887          888         1       1   \n",
            "888          889         0       3   \n",
            "889          890         1       1   \n",
            "890          891         0       3   \n",
            "\n",
            "                                                  Name     Sex        Age  \\\n",
            "0                              Braund, Mr. Owen Harris    male  22.000000   \n",
            "1    Cumings, Mrs. John Bradley (Florence Briggs Th...  female  38.000000   \n",
            "2                               Heikkinen, Miss. Laina  female  26.000000   \n",
            "3         Futrelle, Mrs. Jacques Heath (Lily May Peel)  female  35.000000   \n",
            "4                             Allen, Mr. William Henry    male  35.000000   \n",
            "..                                                 ...     ...        ...   \n",
            "886                              Montvila, Rev. Juozas    male  27.000000   \n",
            "887                       Graham, Miss. Margaret Edith  female  19.000000   \n",
            "888           Johnston, Miss. Catherine Helen \"Carrie\"  female  29.699118   \n",
            "889                              Behr, Mr. Karl Howell    male  26.000000   \n",
            "890                                Dooley, Mr. Patrick    male  32.000000   \n",
            "\n",
            "     SibSp  Parch            Ticket     Fare Cabin Embarked  fare_per_year  \n",
            "0        1      0         A/5 21171   7.2500   NaN        S       0.329545  \n",
            "1        1      0          PC 17599  71.2833   C85        C       1.875876  \n",
            "2        0      0  STON/O2. 3101282   7.9250   NaN        S       0.304808  \n",
            "3        1      0            113803  53.1000  C123        S       1.517143  \n",
            "4        0      0            373450   8.0500   NaN        S       0.230000  \n",
            "..     ...    ...               ...      ...   ...      ...            ...  \n",
            "886      0      0            211536  13.0000   NaN        S       0.481481  \n",
            "887      0      0            112053  30.0000   B42        S       1.578947  \n",
            "888      1      2        W./C. 6607  23.4500   NaN        S       0.789586  \n",
            "889      0      0            111369  30.0000  C148        C       1.153846  \n",
            "890      0      0            370376   7.7500   NaN        Q       0.242188  \n",
            "\n",
            "[891 rows x 13 columns]\n"
          ]
        }
      ]
    },
    {
      "cell_type": "code",
      "source": [
        "#2\n",
        "'''Subset rows where fare per year is higher than 5, assigning this to high fare age.'''\n",
        "high_fare_age = df[df['fare_per_year']>5]\n",
        "print(high_fare_age)"
      ],
      "metadata": {
        "colab": {
          "base_uri": "https://localhost:8080/"
        },
        "id": "tY3ScmP6Y58y",
        "outputId": "94826226-7861-4f24-d82c-e6c75edd3add"
      },
      "execution_count": 37,
      "outputs": [
        {
          "output_type": "stream",
          "name": "stdout",
          "text": [
            "     PassengerId  Survived  Pclass                                      Name  \\\n",
            "7              8         0       3            Palsson, Master. Gosta Leonard   \n",
            "16            17         0       3                      Rice, Master. Eugene   \n",
            "27            28         0       1            Fortune, Mr. Charles Alexander   \n",
            "43            44         1       2  Laroche, Miss. Simonne Marie Anne Andree   \n",
            "50            51         0       3                Panula, Master. Juha Niilo   \n",
            "..           ...       ...     ...                                       ...   \n",
            "813          814         0       3        Andersson, Miss. Ebba Iris Alfrida   \n",
            "824          825         0       3              Panula, Master. Urho Abraham   \n",
            "827          828         1       2                     Mallet, Master. Andre   \n",
            "831          832         1       2           Richards, Master. George Sibley   \n",
            "850          851         0       3   Andersson, Master. Sigvard Harald Elias   \n",
            "\n",
            "        Sex    Age  SibSp  Parch           Ticket      Fare        Cabin  \\\n",
            "7      male   2.00      3      1           349909   21.0750          NaN   \n",
            "16     male   2.00      4      1           382652   29.1250          NaN   \n",
            "27     male  19.00      3      2            19950  263.0000  C23 C25 C27   \n",
            "43   female   3.00      1      2    SC/Paris 2123   41.5792          NaN   \n",
            "50     male   7.00      4      1          3101295   39.6875          NaN   \n",
            "..      ...    ...    ...    ...              ...       ...          ...   \n",
            "813  female   6.00      4      2           347082   31.2750          NaN   \n",
            "824    male   2.00      4      1          3101295   39.6875          NaN   \n",
            "827    male   1.00      0      2  S.C./PARIS 2079   37.0042          NaN   \n",
            "831    male   0.83      1      1            29106   18.7500          NaN   \n",
            "850    male   4.00      4      2           347082   31.2750          NaN   \n",
            "\n",
            "    Embarked  fare_per_year  \n",
            "7          S      10.537500  \n",
            "16         Q      14.562500  \n",
            "27         S      13.842105  \n",
            "43         C      13.859733  \n",
            "50         S       5.669643  \n",
            "..       ...            ...  \n",
            "813        S       5.212500  \n",
            "824        S      19.843750  \n",
            "827        C      37.004200  \n",
            "831        S      22.590361  \n",
            "850        S       7.818750  \n",
            "\n",
            "[70 rows x 13 columns]\n"
          ]
        }
      ]
    },
    {
      "cell_type": "code",
      "source": [
        "#3\n",
        "'''Sort high fare age by descending fare per year, assigning this to high fare age srt.'''\n",
        "high_fare_age_srt = df.sort_values(by='fare_per_year',ascending=False)\n",
        "print(high_fare_age_srt)\n"
      ],
      "metadata": {
        "colab": {
          "base_uri": "https://localhost:8080/"
        },
        "collapsed": true,
        "id": "1P5VPuluZYaD",
        "outputId": "e4fb1e27-709c-4186-9961-a6b49c50023e"
      },
      "execution_count": 39,
      "outputs": [
        {
          "output_type": "stream",
          "name": "stdout",
          "text": [
            "     PassengerId  Survived  Pclass                              Name     Sex  \\\n",
            "305          306         1       1    Allison, Master. Hudson Trevor    male   \n",
            "297          298         0       1      Allison, Miss. Helen Loraine  female   \n",
            "386          387         0       3   Goodwin, Master. Sidney Leonard    male   \n",
            "164          165         0       3      Panula, Master. Eino Viljami    male   \n",
            "183          184         1       2         Becker, Master. Richard F    male   \n",
            "..           ...       ...     ...                               ...     ...   \n",
            "413          414         0       2    Cunningham, Mr. Alfred Fleming    male   \n",
            "674          675         0       2        Watson, Mr. Ennis Hastings    male   \n",
            "481          482         0       2  Frost, Mr. Anthony Wood \"Archie\"    male   \n",
            "466          467         0       2             Campbell, Mr. William    male   \n",
            "806          807         0       1            Andrews, Mr. Thomas Jr    male   \n",
            "\n",
            "           Age  SibSp  Parch   Ticket      Fare    Cabin Embarked  \\\n",
            "305   0.920000      1      2   113781  151.5500  C22 C26        S   \n",
            "297   2.000000      1      2   113781  151.5500  C22 C26        S   \n",
            "386   1.000000      5      2  CA 2144   46.9000      NaN        S   \n",
            "164   1.000000      4      1  3101295   39.6875      NaN        S   \n",
            "183   1.000000      2      1   230136   39.0000       F4        S   \n",
            "..         ...    ...    ...      ...       ...      ...      ...   \n",
            "413  29.699118      0      0   239853    0.0000      NaN        S   \n",
            "674  29.699118      0      0   239856    0.0000      NaN        S   \n",
            "481  29.699118      0      0   239854    0.0000      NaN        S   \n",
            "466  29.699118      0      0   239853    0.0000      NaN        S   \n",
            "806  39.000000      0      0   112050    0.0000      A36        S   \n",
            "\n",
            "     fare_per_year  \n",
            "305     164.728261  \n",
            "297      75.775000  \n",
            "386      46.900000  \n",
            "164      39.687500  \n",
            "183      39.000000  \n",
            "..             ...  \n",
            "413       0.000000  \n",
            "674       0.000000  \n",
            "481       0.000000  \n",
            "466       0.000000  \n",
            "806       0.000000  \n",
            "\n",
            "[891 rows x 13 columns]\n"
          ]
        }
      ]
    },
    {
      "cell_type": "code",
      "source": [
        "#4\n",
        "'''Select only the Name and fare per year columns of high fare age srt and save the result as result.'''\n",
        "result = high_fare_age_srt[['Name', 'fare_per_year']]\n",
        "print(result)"
      ],
      "metadata": {
        "colab": {
          "base_uri": "https://localhost:8080/"
        },
        "id": "qL-Zd0Eoap90",
        "outputId": "99b0a935-2509-404c-84b8-494baa912eb9"
      },
      "execution_count": 40,
      "outputs": [
        {
          "output_type": "stream",
          "name": "stdout",
          "text": [
            "                                 Name  fare_per_year\n",
            "305    Allison, Master. Hudson Trevor     164.728261\n",
            "297      Allison, Miss. Helen Loraine      75.775000\n",
            "386   Goodwin, Master. Sidney Leonard      46.900000\n",
            "164      Panula, Master. Eino Viljami      39.687500\n",
            "183         Becker, Master. Richard F      39.000000\n",
            "..                                ...            ...\n",
            "413    Cunningham, Mr. Alfred Fleming       0.000000\n",
            "674        Watson, Mr. Ennis Hastings       0.000000\n",
            "481  Frost, Mr. Anthony Wood \"Archie\"       0.000000\n",
            "466             Campbell, Mr. William       0.000000\n",
            "806            Andrews, Mr. Thomas Jr       0.000000\n",
            "\n",
            "[891 rows x 2 columns]\n"
          ]
        }
      ]
    },
    {
      "cell_type": "markdown",
      "source": [
        "Which adult male passenger (age ≥18 and Sex is ’male’) paid the highest fare relative to their\n",
        "class? **bold text**"
      ],
      "metadata": {
        "id": "4KzyyRRldej1"
      }
    },
    {
      "cell_type": "code",
      "source": [
        "#1\n",
        "'''Add a column to the Titanic dataset, fare per class, containing the fare divided by the passenger\n",
        "class i.e. Fare / Pclass.'''\n",
        "df['fare_per_class'] = df['Fare']/df['Pclass']\n",
        "print(df)"
      ],
      "metadata": {
        "colab": {
          "base_uri": "https://localhost:8080/"
        },
        "id": "989c0Ly4dvzO",
        "outputId": "c01c9ecd-ded5-4d27-a374-067101c1c2f5"
      },
      "execution_count": 41,
      "outputs": [
        {
          "output_type": "stream",
          "name": "stdout",
          "text": [
            "     PassengerId  Survived  Pclass  \\\n",
            "0              1         0       3   \n",
            "1              2         1       1   \n",
            "2              3         1       3   \n",
            "3              4         1       1   \n",
            "4              5         0       3   \n",
            "..           ...       ...     ...   \n",
            "886          887         0       2   \n",
            "887          888         1       1   \n",
            "888          889         0       3   \n",
            "889          890         1       1   \n",
            "890          891         0       3   \n",
            "\n",
            "                                                  Name     Sex        Age  \\\n",
            "0                              Braund, Mr. Owen Harris    male  22.000000   \n",
            "1    Cumings, Mrs. John Bradley (Florence Briggs Th...  female  38.000000   \n",
            "2                               Heikkinen, Miss. Laina  female  26.000000   \n",
            "3         Futrelle, Mrs. Jacques Heath (Lily May Peel)  female  35.000000   \n",
            "4                             Allen, Mr. William Henry    male  35.000000   \n",
            "..                                                 ...     ...        ...   \n",
            "886                              Montvila, Rev. Juozas    male  27.000000   \n",
            "887                       Graham, Miss. Margaret Edith  female  19.000000   \n",
            "888           Johnston, Miss. Catherine Helen \"Carrie\"  female  29.699118   \n",
            "889                              Behr, Mr. Karl Howell    male  26.000000   \n",
            "890                                Dooley, Mr. Patrick    male  32.000000   \n",
            "\n",
            "     SibSp  Parch            Ticket     Fare Cabin Embarked  fare_per_year  \\\n",
            "0        1      0         A/5 21171   7.2500   NaN        S       0.329545   \n",
            "1        1      0          PC 17599  71.2833   C85        C       1.875876   \n",
            "2        0      0  STON/O2. 3101282   7.9250   NaN        S       0.304808   \n",
            "3        1      0            113803  53.1000  C123        S       1.517143   \n",
            "4        0      0            373450   8.0500   NaN        S       0.230000   \n",
            "..     ...    ...               ...      ...   ...      ...            ...   \n",
            "886      0      0            211536  13.0000   NaN        S       0.481481   \n",
            "887      0      0            112053  30.0000   B42        S       1.578947   \n",
            "888      1      2        W./C. 6607  23.4500   NaN        S       0.789586   \n",
            "889      0      0            111369  30.0000  C148        C       1.153846   \n",
            "890      0      0            370376   7.7500   NaN        Q       0.242188   \n",
            "\n",
            "     fare_per_class  \n",
            "0          2.416667  \n",
            "1         71.283300  \n",
            "2          2.641667  \n",
            "3         53.100000  \n",
            "4          2.683333  \n",
            "..              ...  \n",
            "886        6.500000  \n",
            "887       30.000000  \n",
            "888        7.816667  \n",
            "889       30.000000  \n",
            "890        2.583333  \n",
            "\n",
            "[891 rows x 14 columns]\n"
          ]
        }
      ]
    },
    {
      "cell_type": "code",
      "source": [
        "#2\n",
        "'''Subset rows where the passenger is male (Sex is ”male”) and an adult (Age is greater than or equal\n",
        "to 18), assigning this to adult males.'''\n",
        "adult_males = df[(df['Sex'] == 'male') & (df['Age'] >= 18)]\n",
        "print(adult_males)"
      ],
      "metadata": {
        "colab": {
          "base_uri": "https://localhost:8080/"
        },
        "id": "fT5e5pvAeaL-",
        "outputId": "16d59356-e17d-408f-ed05-c1d52648eee5"
      },
      "execution_count": 45,
      "outputs": [
        {
          "output_type": "stream",
          "name": "stdout",
          "text": [
            "     PassengerId  Survived  Pclass                            Name   Sex  \\\n",
            "0              1         0       3         Braund, Mr. Owen Harris  male   \n",
            "4              5         0       3        Allen, Mr. William Henry  male   \n",
            "5              6         0       3                Moran, Mr. James  male   \n",
            "6              7         0       1         McCarthy, Mr. Timothy J  male   \n",
            "12            13         0       3  Saundercock, Mr. William Henry  male   \n",
            "..           ...       ...     ...                             ...   ...   \n",
            "883          884         0       2   Banfield, Mr. Frederick James  male   \n",
            "884          885         0       3          Sutehall, Mr. Henry Jr  male   \n",
            "886          887         0       2           Montvila, Rev. Juozas  male   \n",
            "889          890         1       1           Behr, Mr. Karl Howell  male   \n",
            "890          891         0       3             Dooley, Mr. Patrick  male   \n",
            "\n",
            "           Age  SibSp  Parch            Ticket     Fare Cabin Embarked  \\\n",
            "0    22.000000      1      0         A/5 21171   7.2500   NaN        S   \n",
            "4    35.000000      0      0            373450   8.0500   NaN        S   \n",
            "5    29.699118      0      0            330877   8.4583   NaN        Q   \n",
            "6    54.000000      0      0             17463  51.8625   E46        S   \n",
            "12   20.000000      0      0         A/5. 2151   8.0500   NaN        S   \n",
            "..         ...    ...    ...               ...      ...   ...      ...   \n",
            "883  28.000000      0      0  C.A./SOTON 34068  10.5000   NaN        S   \n",
            "884  25.000000      0      0   SOTON/OQ 392076   7.0500   NaN        S   \n",
            "886  27.000000      0      0            211536  13.0000   NaN        S   \n",
            "889  26.000000      0      0            111369  30.0000  C148        C   \n",
            "890  32.000000      0      0            370376   7.7500   NaN        Q   \n",
            "\n",
            "     fare_per_year  fare_per_class  \n",
            "0         0.329545        2.416667  \n",
            "4         0.230000        2.683333  \n",
            "5         0.284800        2.819433  \n",
            "6         0.960417       51.862500  \n",
            "12        0.402500        2.683333  \n",
            "..             ...             ...  \n",
            "883       0.375000        5.250000  \n",
            "884       0.282000        2.350000  \n",
            "886       0.481481        6.500000  \n",
            "889       1.153846       30.000000  \n",
            "890       0.242188        2.583333  \n",
            "\n",
            "[519 rows x 14 columns]\n"
          ]
        }
      ]
    },
    {
      "cell_type": "code",
      "source": [
        "#3\n",
        "'''Sort adult males by descending fare per class, assigning this to adult males srt.'''\n",
        "adult_male_str = df.sort_values(by='fare_per_class',ascending=False)\n",
        "print(adult_male_str)"
      ],
      "metadata": {
        "colab": {
          "base_uri": "https://localhost:8080/"
        },
        "id": "-fgEDnpUf0ow",
        "outputId": "af6e431c-5b0a-481a-b434-b58244d95afc"
      },
      "execution_count": 46,
      "outputs": [
        {
          "output_type": "stream",
          "name": "stdout",
          "text": [
            "     PassengerId  Survived  Pclass                                Name  \\\n",
            "258          259         1       1                    Ward, Miss. Anna   \n",
            "679          680         1       1  Cardeza, Mr. Thomas Drake Martinez   \n",
            "737          738         1       1              Lesurer, Mr. Gustave J   \n",
            "88            89         1       1          Fortune, Miss. Mabel Helen   \n",
            "438          439         0       1                   Fortune, Mr. Mark   \n",
            "..           ...       ...     ...                                 ...   \n",
            "271          272         1       3        Tornquist, Mr. William Henry   \n",
            "263          264         0       1               Harrison, Mr. William   \n",
            "597          598         0       3                 Johnson, Mr. Alfred   \n",
            "633          634         0       1       Parr, Mr. William Henry Marsh   \n",
            "674          675         0       2          Watson, Mr. Ennis Hastings   \n",
            "\n",
            "        Sex        Age  SibSp  Parch    Ticket      Fare        Cabin  \\\n",
            "258  female  35.000000      0      0  PC 17755  512.3292          NaN   \n",
            "679    male  36.000000      0      1  PC 17755  512.3292  B51 B53 B55   \n",
            "737    male  35.000000      0      0  PC 17755  512.3292         B101   \n",
            "88   female  23.000000      3      2     19950  263.0000  C23 C25 C27   \n",
            "438    male  64.000000      1      4     19950  263.0000  C23 C25 C27   \n",
            "..      ...        ...    ...    ...       ...       ...          ...   \n",
            "271    male  25.000000      0      0      LINE    0.0000          NaN   \n",
            "263    male  40.000000      0      0    112059    0.0000          B94   \n",
            "597    male  49.000000      0      0      LINE    0.0000          NaN   \n",
            "633    male  29.699118      0      0    112052    0.0000          NaN   \n",
            "674    male  29.699118      0      0    239856    0.0000          NaN   \n",
            "\n",
            "    Embarked  fare_per_year  fare_per_class  \n",
            "258        C      14.637977        512.3292  \n",
            "679        C      14.231367        512.3292  \n",
            "737        C      14.637977        512.3292  \n",
            "88         S      11.434783        263.0000  \n",
            "438        S       4.109375        263.0000  \n",
            "..       ...            ...             ...  \n",
            "271        S       0.000000          0.0000  \n",
            "263        S       0.000000          0.0000  \n",
            "597        S       0.000000          0.0000  \n",
            "633        S       0.000000          0.0000  \n",
            "674        S       0.000000          0.0000  \n",
            "\n",
            "[891 rows x 14 columns]\n"
          ]
        }
      ]
    },
    {
      "cell_type": "code",
      "source": [
        "#4\n",
        "''''''\n",
        "result = adult_male_str[['Name','Age','fare_per_class']]\n",
        "print(result)"
      ],
      "metadata": {
        "colab": {
          "base_uri": "https://localhost:8080/"
        },
        "id": "54nYw9r8hXRj",
        "outputId": "e321682e-4b35-4233-9784-f0ae88bc8ca8"
      },
      "execution_count": 47,
      "outputs": [
        {
          "output_type": "stream",
          "name": "stdout",
          "text": [
            "                                   Name        Age  fare_per_class\n",
            "258                    Ward, Miss. Anna  35.000000        512.3292\n",
            "679  Cardeza, Mr. Thomas Drake Martinez  36.000000        512.3292\n",
            "737              Lesurer, Mr. Gustave J  35.000000        512.3292\n",
            "88           Fortune, Miss. Mabel Helen  23.000000        263.0000\n",
            "438                   Fortune, Mr. Mark  64.000000        263.0000\n",
            "..                                  ...        ...             ...\n",
            "271        Tornquist, Mr. William Henry  25.000000          0.0000\n",
            "263               Harrison, Mr. William  40.000000          0.0000\n",
            "597                 Johnson, Mr. Alfred  49.000000          0.0000\n",
            "633       Parr, Mr. William Henry Marsh  29.699118          0.0000\n",
            "674          Watson, Mr. Ennis Hastings  29.699118          0.0000\n",
            "\n",
            "[891 rows x 3 columns]\n"
          ]
        }
      ]
    },
    {
      "cell_type": "markdown",
      "source": [
        "**3.3 Exploratory Data Analysis with Group-by Method Practice **"
      ],
      "metadata": {
        "id": "kfmNvCFSiJ8_"
      }
    },
    {
      "cell_type": "code",
      "source": [
        "'''What percent of the total fare revenue came from each passenger class?'''\n",
        "\n",
        "total_fare = df.groupby('Pclass')['Fare'].sum()\n",
        "print(total_fare ,\"\\n\")\n",
        "#making list of the total fare\n",
        "fare_totals_list = [total_fare[1], total_fare[2], total_fare[3]]\n",
        "print(fare_totals_list,\"\\n\")\n",
        "\n",
        "total_overall_fare = sum(fare_totals_list)\n",
        "\n",
        "fare_rev_class1= fare_totals_list[0]/sum(fare_totals_list)\n",
        "fare_rev_class2= fare_totals_list[1]/sum(fare_totals_list)\n",
        "fare_rev_class3= fare_totals_list[2]/sum(fare_totals_list)\n",
        "\n",
        "print(\"Proportion of fare revenue:\")\n",
        "print(f\"First Class:  {fare_rev_class1:.2%}\")\n",
        "print(f\"Second Class: {fare_rev_class2:.2%}\")\n",
        "print(f\"Third Class:  {fare_rev_class3:.2%}\")\n"
      ],
      "metadata": {
        "colab": {
          "base_uri": "https://localhost:8080/"
        },
        "id": "TbWbAsuliR9e",
        "outputId": "9bca1369-059a-441c-8832-00914eb836cf"
      },
      "execution_count": 60,
      "outputs": [
        {
          "output_type": "stream",
          "name": "stdout",
          "text": [
            "Pclass\n",
            "1    18177.4125\n",
            "2     3801.8417\n",
            "3     6714.6951\n",
            "Name: Fare, dtype: float64 \n",
            "\n",
            "[18177.4125, 3801.8417, 6714.6951] \n",
            "\n",
            "Proportion of fare revenue:\n",
            "First Class:  63.35%\n",
            "Second Class: 13.25%\n",
            "Third Class:  23.40%\n"
          ]
        }
      ]
    },
    {
      "cell_type": "code",
      "source": [
        "'''What percent of the total number of passengers on the Titanic belonged to each age group\n",
        "(e.g., child, adult, senior)?'''\n",
        "\n",
        "Child = df[df[\"Age\"]<18]\n",
        "Adult = df[(df[\"Age\"]>=18) & (df[\"Age\"]<=64)]\n",
        "Senior = df[df[\"Age\"]>=65]\n",
        "\n",
        "total_pass = len(df)\n",
        "total_child = len(Child)\n",
        "total_adult = len(Adult)\n",
        "total_senior = len(Senior)\n",
        "\n",
        "print(total_pass)\n",
        "\n",
        "prop_child = total_child/total_pass\n",
        "prop_adult = total_adult/total_pass\n",
        "prop_senior = total_senior/total_pass\n",
        "\n",
        "print(\"The proportion of passengers\\n\")\n",
        "print(f\"Child: {prop_child:.2%}\")\n",
        "print(f\"Adult: {prop_adult:.2%}\")\n",
        "print(f\"Senior: {prop_senior:.2%}\")\n",
        "\n",
        "\n"
      ],
      "metadata": {
        "colab": {
          "base_uri": "https://localhost:8080/"
        },
        "id": "m46GvF1in6Af",
        "outputId": "deaf9caa-a38f-423d-ba1f-0050e77ff6d9"
      },
      "execution_count": 67,
      "outputs": [
        {
          "output_type": "stream",
          "name": "stdout",
          "text": [
            "891\n",
            "The proportion of passengers\n",
            "\n",
            "Child: 12.68%\n",
            "Adult: 86.08%\n",
            "Senior: 1.23%\n"
          ]
        }
      ]
    }
  ]
}